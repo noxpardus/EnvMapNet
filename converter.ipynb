{
 "cells": [
  {
   "cell_type": "code",
   "execution_count": 1,
   "metadata": {},
   "outputs": [],
   "source": [
    "import numpy as np\n",
    "import cv2\n",
    "import os\n",
    "import matplotlib.pyplot as plt\n",
    "import math\n",
    "import shutil\n",
    "import random\n",
    "import torch"
   ]
  },
  {
   "cell_type": "code",
   "execution_count": 5,
   "metadata": {},
   "outputs": [
    {
     "data": {
      "text/plain": [
       "'1.8.1'"
      ]
     },
     "execution_count": 5,
     "metadata": {},
     "output_type": "execute_result"
    }
   ],
   "source": [
    "torch.__version__"
   ]
  },
  {
   "cell_type": "code",
   "execution_count": 2,
   "metadata": {},
   "outputs": [],
   "source": [
    "def process_hdr(image):\n",
    "    return np.minimum(np.maximum(np.log10(image * 0.2 * image.mean() + 1), 0), 2) - 1\n",
    "\n",
    "def find_power(image, target=0.011):\n",
    "    l, r = 0.0, 1.0\n",
    "    m = 0.5\n",
    "    for i in range(32):\n",
    "        res = np.power(image, m).mean()\n",
    "        if abs(res - target) < 1e-6:\n",
    "            return m\n",
    "        elif res > target:\n",
    "            l = m\n",
    "        else:\n",
    "            r = m\n",
    "        m = (r + l) / 2\n",
    "    return m"
   ]
  },
  {
   "cell_type": "code",
   "execution_count": 3,
   "metadata": {},
   "outputs": [
    {
     "name": "stdout",
     "output_type": "stream",
     "text": [
      "2233 / 2233\r"
     ]
    }
   ],
   "source": [
    "src_dir = os.path.join('LavalIndoorHDRDatasetPrepared')\n",
    "dst_dir = os.path.join('LavalIndoorHDRDatasetReady')\n",
    "\n",
    "catalog = os.listdir(src_dir)\n",
    "n = len(catalog)\n",
    "for i, file in enumerate(catalog):\n",
    "    data = cv2.resize(np.load(os.path.join(src_dir, file))[:3300,], (2048, 1024))\n",
    "    data /= data.max()\n",
    "\n",
    "    target = np.random.rand() * (0.015 - 0.011) + 0.011\n",
    "    data = np.power(data, find_power(data, target)) * 255\n",
    "    data = process_hdr(data)\n",
    "\n",
    "    np.save(os.path.join(dst_dir, file[:-3]), data)\n",
    "    print('{} / {}'.format(i + 1, n), end='\\r')"
   ]
  },
  {
   "cell_type": "code",
   "execution_count": 17,
   "metadata": {},
   "outputs": [
    {
     "name": "stdout",
     "output_type": "stream",
     "text": [
      "283 / 283\r"
     ]
    }
   ],
   "source": [
    "src_dir = os.path.join('PanoIndoorLDRDataset')\n",
    "dst_dir = os.path.join('PanoIndoorLDRDatasetReady')\n",
    "\n",
    "catalog = os.listdir(os.path.join(src_dir, 'bedroom'))\n",
    "n = len(catalog) - 2\n",
    "delay = 0\n",
    "for i, file in enumerate(catalog):\n",
    "    if file.endswith('.mat'):\n",
    "        delay += 1\n",
    "        continue\n",
    "\n",
    "    data = cv2.imread(os.path.join(src_dir, 'bedroom', file, file + '.jpg'))\n",
    "    data = cv2.resize(data, (2048, 1024))\n",
    "    data = cv2.cvtColor(data, cv2.COLOR_BGR2RGB)\n",
    "    data = process_hdr(data)\n",
    "\n",
    "    np.save(os.path.join(dst_dir, file), data)\n",
    "    print('{} / {}'.format(i + 1 - delay, n), end='\\r')\n",
    "\n",
    "catalog = os.listdir(os.path.join(src_dir, 'living_room'))\n",
    "n = len(catalog) - 2\n",
    "delay = 0\n",
    "for i, file in enumerate(catalog):\n",
    "    if file.endswith('.mat'):\n",
    "        delay += 1\n",
    "        continue\n",
    "\n",
    "    data = cv2.imread(os.path.join(src_dir, 'living_room', file, file + '.jpg'))\n",
    "    data = cv2.resize(data, (2048, 1024))\n",
    "    data = cv2.cvtColor(data, cv2.COLOR_BGR2RGB)\n",
    "    data = process_hdr(data)\n",
    "\n",
    "    np.save(os.path.join(dst_dir, file), data)\n",
    "    print('{} / {}'.format(i + 1 - delay, n), end='\\r')"
   ]
  },
  {
   "cell_type": "code",
   "execution_count": 28,
   "metadata": {},
   "outputs": [],
   "source": [
    "for file in os.listdir('LavalIndoorHDRDatasetReady'):\n",
    "    if file in ('test', 'train'):\n",
    "        continue\n",
    "    shutil.move(\n",
    "        os.path.join('LavalIndoorHDRDatasetReady', file),\n",
    "        os.path.join('LavalIndoorHDRDatasetReady', 'train' if random() < 0.85 else 'test', file[:-4] + file[-3:])\n",
    "    )\n",
    "for file in os.listdir('PanoIndoorLDRDatasetReady'):\n",
    "    if file in ('test', 'train'):\n",
    "        continue\n",
    "    shutil.move(\n",
    "        os.path.join('PanoIndoorLDRDatasetReady', file),\n",
    "        os.path.join('PanoIndoorLDRDatasetReady', 'train' if random() < 0.85 else 'test', file)\n",
    "    )"
   ]
  },
  {
   "cell_type": "code",
   "execution_count": 43,
   "metadata": {},
   "outputs": [],
   "source": [
    "base = np.zeros((1000, 2000, 3))"
   ]
  },
  {
   "cell_type": "code",
   "execution_count": 42,
   "metadata": {},
   "outputs": [],
   "source": [
    "def __build_mask(self, base_shape):\n",
    "    base_shape = (*base_shape, 3)\n",
    "    image = np.zeros(base_shape)\n",
    "\n",
    "    for i in range(15):\n",
    "        scale = random.randint(10, 40)\n",
    "\n",
    "        h, w, _ = base_shape\n",
    "        h = h * scale // 100\n",
    "        w = w * scale // 100\n",
    "\n",
    "        tmp = np.ones((h, w, 3)) * 255\n",
    "\n",
    "        angle = random.randint(0, 180)\n",
    "\n",
    "        M = cv2.getRotationMatrix2D((w // 2, h // 2), angle, 1)\n",
    "        tmp = cv2.warpAffine(tmp, M, (w, h))\n",
    "\n",
    "        h_c = random.randint(base_shape[0] // 3, 2 * base_shape[0] // 3)\n",
    "        w_c = random.randint(base_shape[1] // 3, 2 * base_shape[1] // 3)\n",
    "\n",
    "        top_pad = base_shape[0] - h_c - h // 2\n",
    "        bottom_pad = h_c - h // 2 - h % 2\n",
    "\n",
    "        right_pad = base_shape[1] - w_c - w // 2\n",
    "        left_pad = w_c - w // 2 - w % 2\n",
    "\n",
    "        tmp = np.pad(tmp, ((top_pad, bottom_pad), (left_pad, right_pad), (0, 0)))\n",
    "\n",
    "        image = cv2.add(image, tmp)\n",
    "\n",
    "    return image"
   ]
  },
  {
   "cell_type": "code",
   "execution_count": 43,
   "metadata": {},
   "outputs": [
    {
     "data": {
      "text/plain": [
       "-1"
      ]
     },
     "execution_count": 43,
     "metadata": {},
     "output_type": "execute_result"
    }
   ],
   "source": [
    "base = __build_mask(None, (1000, 2000))\n",
    "cv2.imshow('test', base)\n",
    "cv2.waitKey()"
   ]
  },
  {
   "cell_type": "code",
   "execution_count": 48,
   "metadata": {},
   "outputs": [
    {
     "data": {
      "text/plain": [
       "array([[[1, 1, 1],\n",
       "        [1, 1, 1],\n",
       "        [1, 1, 1],\n",
       "        ...,\n",
       "        [1, 1, 1],\n",
       "        [1, 1, 1],\n",
       "        [1, 1, 1]],\n",
       "\n",
       "       [[1, 1, 1],\n",
       "        [1, 1, 1],\n",
       "        [1, 1, 1],\n",
       "        ...,\n",
       "        [1, 1, 1],\n",
       "        [1, 1, 1],\n",
       "        [1, 1, 1]],\n",
       "\n",
       "       [[1, 1, 1],\n",
       "        [1, 1, 1],\n",
       "        [1, 1, 1],\n",
       "        ...,\n",
       "        [1, 1, 1],\n",
       "        [1, 1, 1],\n",
       "        [1, 1, 1]],\n",
       "\n",
       "       ...,\n",
       "\n",
       "       [[1, 1, 1],\n",
       "        [1, 1, 1],\n",
       "        [1, 1, 1],\n",
       "        ...,\n",
       "        [1, 1, 1],\n",
       "        [1, 1, 1],\n",
       "        [1, 1, 1]],\n",
       "\n",
       "       [[1, 1, 1],\n",
       "        [1, 1, 1],\n",
       "        [1, 1, 1],\n",
       "        ...,\n",
       "        [1, 1, 1],\n",
       "        [1, 1, 1],\n",
       "        [1, 1, 1]],\n",
       "\n",
       "       [[1, 1, 1],\n",
       "        [1, 1, 1],\n",
       "        [1, 1, 1],\n",
       "        ...,\n",
       "        [1, 1, 1],\n",
       "        [1, 1, 1],\n",
       "        [1, 1, 1]]])"
      ]
     },
     "execution_count": 48,
     "metadata": {},
     "output_type": "execute_result"
    }
   ],
   "source": [
    "(base == 0).astype(np.int)"
   ]
  },
  {
   "cell_type": "code",
   "execution_count": 10,
   "metadata": {},
   "outputs": [],
   "source": [
    "class KMeans:\n",
    "    def __init__(self, K=10, Niter=10):\n",
    "        self.\n",
    "    \n",
    "    def fit(self, x):\n",
    "        N, D = x.shape\n",
    "        c = x[:K, :].clone()\n",
    "\n",
    "        x_i = LazyTensor(x.view(N, 1, D))\n",
    "        c_j = LazyTensor(c.view(1, K, D))\n",
    "\n",
    "        for i in range(Niter):\n",
    "            D_ij = ((x_i - c_j) ** 2).sum(-1)\n",
    "            cl = D_ij.argmin(dim=1).long().view(-1)\n",
    "\n",
    "            c.zero_()\n",
    "            c.scatter_add_(0, cl[:, None].repeat(1, D), x)\n",
    "\n",
    "            Ncl = torch.bincount(cl, minlength=K).type_as(c).view(K, 1)\n",
    "            c /= Ncl\n",
    "\n",
    "        return cl, c"
   ]
  },
  {
   "cell_type": "code",
   "execution_count": 3,
   "metadata": {},
   "outputs": [],
   "source": [
    "class ORBPatcher:\n",
    "    def __init__(self, *, key_points=1000):\n",
    "        self.__orb = cv2.ORB_create(key_points)\n",
    "\n",
    "    def __call__(self, image):\n",
    "        key_points, _ = self.__orb.detectAndCompute(image, None)\n",
    "\n",
    "        res = np.zeros((image.shape[0], image.shape[1]), dtype=np.int)\n",
    "        for point in key_points:\n",
    "            x, y = map(np.int, point.pt)\n",
    "            res[y, x] = 1\n",
    "\n",
    "        res == 1\n",
    "        return res.flatten()"
   ]
  },
  {
   "cell_type": "code",
   "execution_count": null,
   "metadata": {},
   "outputs": [],
   "source": [
    "class KMeansFiles:\n",
    "    def __init__(self, orb, *, clusters=5, n_iter=300, partitions=1):\n",
    "        self.__orb = orb\n",
    "        self.__clusters = clusters\n",
    "        self.__n_iter = n_iter\n",
    "        self.__partitions = partitions\n",
    "        self.__centers = None\n",
    "\n",
    "    def fit(self, files):\n",
    "        partition = (len(files) + self.__partitions - 1) // self.__partitions\n",
    "        print('preparing partitions\\n')\n",
    "        for num in range(self.__partitions):\n",
    "            tmp = self.__prepare_partition(files[num * partition: (num + 1) * partition])\n",
    "            torch.save(tmp, os.path.join('{}.tmp'.format(num)))\n",
    "            print('partition {} prepared'.format(num))\n",
    "        print('preparing partitions\\n'.format(len(files)))\n",
    "\n",
    "        print('fitting k-means on {} samples\\n'.format(len(files)))\n",
    "        for iteration in self.__n_iter:\n",
    "            for num in range(self.__partitions):\n",
    "                tmp = torch.load(os.path.join('{}.tmp'.format(num))).to(device)\n",
    "                print('fitting on partition {}'.format(num))\n",
    "                self.__fit_partition(tmp)\n",
    "                print('partition fitted!\\n')\n",
    "            print('iteration {} fitted!\\n'.format(iteration))\n",
    "        print('k-means ready!')\n",
    "\n",
    "    def __prepare_partition(self, files):\n",
    "        return torch.tensor([\n",
    "            self.__orb((((np.load(file)) + 1) / 2 * 255).astype(np.uint8))\n",
    "            for file in files\n",
    "        ]).to(device)\n",
    "\n",
    "    def __fit_partition(self, x):\n",
    "        n, d = x.shape\n",
    "        if self.__centers is None:\n",
    "            self.__centers = x[:self.__clusters, :].clone().to(device)\n",
    "\n",
    "        x_i = x.view(n, 1, d)\n",
    "        c_j = self.__centers.view(1, self.__clusters, d)\n",
    "\n",
    "        D_ij = ((x_i - c_j) ** 2).sum(-1)\n",
    "        clusters = D_ij.argmin(dim=1).long().view(-1)\n",
    "\n",
    "        self.__centers.zero_()\n",
    "        self.__centers.scatter_add_(0, clusters[:, None].repeat(1, D), x)\n",
    "        self.__centers /= torch.bincount(clusters, minlength=k).type_as(self.__centers).view(self.__clusters, 1)\n",
    "\n",
    "    def predict(self, patches):\n",
    "        if self.__centers == None:\n",
    "            print('k-means wasn\\'t fitted')\n",
    "            return\n",
    "\n",
    "        n, d = x.shape\n",
    "        x_i = x.view(n, 1, d)\n",
    "        c_j = self.__centers.view(1, self.__clusters, d)\n",
    "        D_ij = ((x_i - c_j) ** 2).sum(-1)\n",
    "        clusters = D_ij.argmin(dim=1).long().view(-1)\n",
    "\n",
    "        res = torch.zeros((n, self.__clusters)).to(device)\n",
    "        for num, item in enumerate(clusters):\n",
    "            res[num, item] = 1\n",
    "        return res"
   ]
  },
  {
   "cell_type": "code",
   "execution_count": 7,
   "metadata": {},
   "outputs": [],
   "source": [
    "def __calc_orb_patch(self, image):\n",
    "    orb = cv2.ORB_create(1000)\n",
    "    key_points, _ = orb.detectAndCompute(image, None)\n",
    "\n",
    "    res = np.zeros_like(image, dtype=np.int8)\n",
    "    for point in key_points:\n",
    "        x, y = map(np.int, point.pt)\n",
    "        res[y, x] = np.array([1,1,1], dtype=np.int8)\n",
    "\n",
    "    return res"
   ]
  },
  {
   "cell_type": "code",
   "execution_count": 9,
   "metadata": {},
   "outputs": [
    {
     "data": {
      "text/plain": [
       "True"
      ]
     },
     "execution_count": 9,
     "metadata": {},
     "output_type": "execute_result"
    }
   ],
   "source": [
    "orig = cv2.imread(os.path.join('PanoIndoorLDRDataset', 'bedroom', 'pano_aaacisrhqnnvoq', 'pano_aaacisrhqnnvoq.jpg'))\n",
    "orig = cv2.resize(orig, (2048, 1024))\n",
    "\n",
    "cv2.imwrite(os.path.join('Presentation Pictures', 'orb_orig.jpg'), orig)\n",
    "\n",
    "# cv2.imshow('title', res)\n",
    "# cv2.waitKey()"
   ]
  },
  {
   "cell_type": "code",
   "execution_count": 11,
   "metadata": {},
   "outputs": [],
   "source": [
    "def prepare_data():\n",
    "    catalogs = [\n",
    "        os.path.join('LavalIndoorHDRDatasetReady', 'train'),\n",
    "        os.path.join('PanoIndoorLDRDatasetReady', 'test'),\n",
    "        os.path.join('LavalIndoorHDRDatasetReady', 'train'),\n",
    "        os.path.join('PanoIndoorLDRDatasetReady', 'test')\n",
    "    ]\n",
    "    files = []\n",
    "    for catalog in catalogs:\n",
    "        files.extend([os.path.join(catalog, file) for file in os.listdir(catalog)])\n",
    "    return files"
   ]
  },
  {
   "cell_type": "code",
   "execution_count": null,
   "metadata": {},
   "outputs": [],
   "source": [
    "use_cuda = torch.cuda.is_available()\n",
    "dtype = torch.float32 if use_cuda else torch.float64\n",
    "\n",
    "KMeans(np.array([\n",
    "    self.__calc_orb_patch((((np.load(file)) + 1) / 2 * 255).astype(np.uint8))\n",
    "    for file in prepare_data()\n",
    "]))"
   ]
  },
  {
   "cell_type": "code",
   "execution_count": 2,
   "metadata": {},
   "outputs": [
    {
     "data": {
      "text/plain": [
       "array([[[1, 2],\n",
       "        [1, 2],\n",
       "        [1, 2]],\n",
       "\n",
       "       [[1, 2],\n",
       "        [1, 2],\n",
       "        [1, 2]],\n",
       "\n",
       "       [[1, 2],\n",
       "        [1, 2],\n",
       "        [1, 2]]])"
      ]
     },
     "execution_count": 2,
     "metadata": {},
     "output_type": "execute_result"
    }
   ],
   "source": [
    "a = np.array([\n",
    "    [1, 1, 1],\n",
    "    [1, 1, 1],\n",
    "    [1, 1, 1],\n",
    "])\n",
    "b = np.array([\n",
    "    [2, 2, 2],\n",
    "    [2, 2, 2],\n",
    "    [2, 2, 2],\n",
    "])\n",
    "\n",
    "np.concatenate([a.reshape((3,3,1)), b.reshape(3,3,1)], axis=2)"
   ]
  },
  {
   "cell_type": "code",
   "execution_count": 6,
   "metadata": {},
   "outputs": [
    {
     "data": {
      "text/plain": [
       "True"
      ]
     },
     "execution_count": 6,
     "metadata": {},
     "output_type": "execute_result"
    }
   ],
   "source": [
    "catalog = os.path.join('PanoIndoorLDRDatasetReady', 'train')\n",
    "im_name = os.listdir(catalog)[50]\n",
    "im_path = os.path.join(catalog, im_name)\n",
    "\n",
    "image = np.load(im_path)\n",
    "cv2.imwrite(os.path.join('Pictures', 'pano1.jpg'), image)"
   ]
  }
 ],
 "metadata": {
  "kernelspec": {
   "display_name": "Python 3",
   "language": "python",
   "name": "python3"
  },
  "language_info": {
   "codemirror_mode": {
    "name": "ipython",
    "version": 3
   },
   "file_extension": ".py",
   "mimetype": "text/x-python",
   "name": "python",
   "nbconvert_exporter": "python",
   "pygments_lexer": "ipython3",
   "version": "3.7.10"
  }
 },
 "nbformat": 4,
 "nbformat_minor": 4
}
