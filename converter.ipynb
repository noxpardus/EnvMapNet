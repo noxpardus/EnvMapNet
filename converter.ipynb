{
 "cells": [
  {
   "cell_type": "code",
   "execution_count": 2,
   "metadata": {},
   "outputs": [],
   "source": [
    "import numpy as np\n",
    "import cv2\n",
    "import os\n",
    "import matplotlib.pyplot as plt\n",
    "import math\n",
    "import shutil\n",
    "import random\n",
    "import torch"
   ]
  },
  {
   "cell_type": "code",
   "execution_count": 5,
   "metadata": {},
   "outputs": [
    {
     "data": {
      "text/plain": [
       "'1.8.1'"
      ]
     },
     "execution_count": 5,
     "metadata": {},
     "output_type": "execute_result"
    }
   ],
   "source": [
    "torch.__version__"
   ]
  },
  {
   "cell_type": "code",
   "execution_count": 2,
   "metadata": {},
   "outputs": [],
   "source": [
    "def process_hdr(image):\n",
    "    return np.minimum(np.maximum(np.log10(image * 0.2 * image.mean() + 1), 0), 2) - 1\n",
    "\n",
    "def find_power(image, target=0.011):\n",
    "    l, r = 0.0, 1.0\n",
    "    m = 0.5\n",
    "    for i in range(32):\n",
    "        res = np.power(image, m).mean()\n",
    "        if abs(res - target) < 1e-6:\n",
    "            return m\n",
    "        elif res > target:\n",
    "            l = m\n",
    "        else:\n",
    "            r = m\n",
    "        m = (r + l) / 2\n",
    "    return m"
   ]
  },
  {
   "cell_type": "code",
   "execution_count": 3,
   "metadata": {},
   "outputs": [
    {
     "name": "stdout",
     "output_type": "stream",
     "text": [
      "2233 / 2233\r"
     ]
    }
   ],
   "source": [
    "src_dir = os.path.join('LavalIndoorHDRDatasetPrepared')\n",
    "dst_dir = os.path.join('LavalIndoorHDRDatasetReadySmall')\n",
    "\n",
    "catalog = os.listdir(src_dir)\n",
    "n = len(catalog)\n",
    "for i, file in enumerate(catalog):\n",
    "    data = cv2.resize(np.load(os.path.join(src_dir, file))[:3300,], (256, 128))\n",
    "    data /= data.max()\n",
    "\n",
    "    target = np.random.rand() * (0.015 - 0.011) + 0.011\n",
    "    data = np.power(data, find_power(data, target)) * 255\n",
    "    data = process_hdr(data)\n",
    "\n",
    "    np.save(os.path.join(dst_dir, file[:-4]), data)\n",
    "    print('{} / {}'.format(i + 1, n), end='\\r')"
   ]
  },
  {
   "cell_type": "code",
   "execution_count": 7,
   "metadata": {},
   "outputs": [
    {
     "name": "stdout",
     "output_type": "stream",
     "text": [
      "\n",
      "282 / 283\r"
     ]
    }
   ],
   "source": [
    "src_dir = os.path.join('PanoIndoorLDRDataset')\n",
    "dst_dir = os.path.join('PanoIndoorLDRDatasetReadySmall')\n",
    "\n",
    "catalog = os.listdir(os.path.join(src_dir, 'bedroom'))\n",
    "n = len(catalog) - 2\n",
    "delay = 0\n",
    "for i, file in enumerate(catalog):\n",
    "    if file.endswith('.mat'):\n",
    "        delay += 1\n",
    "        continue\n",
    "\n",
    "    data = cv2.imread(os.path.join(src_dir, 'bedroom', file, file + '.jpg'))\n",
    "    data = cv2.resize(data, (256, 128))\n",
    "    data = cv2.cvtColor(data, cv2.COLOR_BGR2RGB)\n",
    "    data = process_hdr(data)\n",
    "\n",
    "    np.save(os.path.join(dst_dir, file), data)\n",
    "    print('{} / {}'.format(i + 1 - delay, n), end='\\r')\n",
    "\n",
    "print()\n",
    "\n",
    "catalog = os.listdir(os.path.join(src_dir, 'living_room'))\n",
    "n = len(catalog) - 2\n",
    "delay = 0\n",
    "for i, file in enumerate(catalog):\n",
    "    if file.endswith('.mat'):\n",
    "        delay += 1\n",
    "        continue\n",
    "\n",
    "    try:\n",
    "        data = cv2.imread(os.path.join(src_dir, 'living_room', file, file + '.jpg'))\n",
    "        data = cv2.resize(data, (256, 128))\n",
    "        data = cv2.cvtColor(data, cv2.COLOR_BGR2RGB)\n",
    "        data = process_hdr(data)\n",
    "    except:\n",
    "        delay += 1\n",
    "\n",
    "    np.save(os.path.join(dst_dir, file), data)\n",
    "    print('{} / {}'.format(i + 1 - delay, n), end='\\r')"
   ]
  },
  {
   "cell_type": "code",
   "execution_count": 9,
   "metadata": {},
   "outputs": [],
   "source": [
    "for file in os.listdir('LavalIndoorHDRDatasetReadySmall'):\n",
    "    if file in ('test', 'train'):\n",
    "        continue\n",
    "    shutil.move(\n",
    "        os.path.join('LavalIndoorHDRDatasetReadySmall', file),\n",
    "        os.path.join('LavalIndoorHDRDatasetReadySmall', 'train' if random.random() < 0.85 else 'test', file)\n",
    "    )\n",
    "for file in os.listdir('PanoIndoorLDRDatasetReadySmall'):\n",
    "    if file in ('test', 'train'):\n",
    "        continue\n",
    "    shutil.move(\n",
    "        os.path.join('PanoIndoorLDRDatasetReadySmall', file),\n",
    "        os.path.join('PanoIndoorLDRDatasetReadySmall', 'train' if random.random() < 0.85 else 'test', file)\n",
    "    )"
   ]
  }
 ],
 "metadata": {
  "kernelspec": {
   "display_name": "Python 3",
   "language": "python",
   "name": "python3"
  },
  "language_info": {
   "codemirror_mode": {
    "name": "ipython",
    "version": 3
   },
   "file_extension": ".py",
   "mimetype": "text/x-python",
   "name": "python",
   "nbconvert_exporter": "python",
   "pygments_lexer": "ipython3",
   "version": "3.7.10"
  }
 },
 "nbformat": 4,
 "nbformat_minor": 4
}
