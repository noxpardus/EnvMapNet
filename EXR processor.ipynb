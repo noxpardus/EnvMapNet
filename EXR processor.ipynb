{
 "cells": [
  {
   "cell_type": "code",
   "execution_count": 1,
   "metadata": {},
   "outputs": [],
   "source": [
    "import OpenEXR, array, Imath\n",
    "import os\n",
    "import numpy as np\n",
    "import matplotlib.pyplot as plt\n",
    "import cv2\n",
    "import imageio\n",
    "from PIL import Image"
   ]
  },
  {
   "cell_type": "code",
   "execution_count": 2,
   "metadata": {},
   "outputs": [],
   "source": [
    "exr_images = os.path.join('diploma', 'LavalIndoorHDRDataset')\n",
    "res_arrays = os.path.join('diploma', 'LavalIndoorHDRDatasetPrepared')"
   ]
  },
  {
   "cell_type": "code",
   "execution_count": 3,
   "metadata": {},
   "outputs": [],
   "source": [
    "result_shape = (3884, 7768, 1)"
   ]
  },
  {
   "cell_type": "code",
   "execution_count": 4,
   "metadata": {},
   "outputs": [],
   "source": [
    "def process_image(path):\n",
    "    np.save(os.path.join(res_arrays, path[:-4]), np.concatenate(list(map(\n",
    "        lambda x: x.reshape(result_shape),\n",
    "        (\n",
    "            np.array(array.array(\n",
    "                'f', OpenEXR\\\n",
    "                        .InputFile(os.path.join(exr_images, path))\\\n",
    "                        .channel(channel, Imath.PixelType(Imath.PixelType.FLOAT))\n",
    "            ).tolist()) for channel in (\"R\", \"G\", \"B\")\n",
    "        )\n",
    "    )), axis=2))"
   ]
  },
  {
   "cell_type": "code",
   "execution_count": 5,
   "metadata": {},
   "outputs": [],
   "source": [
    "#n = len(os.listdir(exr_images))\n",
    "#for i, path in enumerate(os.listdir(exr_images)[:1]):\n",
    "#    process_image(path)\n",
    "#    print(i + 1, '/', n, end='\\r')"
   ]
  },
  {
   "cell_type": "code",
   "execution_count": 38,
   "metadata": {},
   "outputs": [
    {
     "data": {
      "text/plain": [
       "<matplotlib.image.AxesImage at 0x7f3888214370>"
      ]
     },
     "execution_count": 38,
     "metadata": {},
     "output_type": "execute_result"
    },
    {
     "data": {
      "image/png": "[encoded data removed]",
      "text/plain": [
       "<Figure size 432x288 with 1 Axes>"
      ]
     },
     "metadata": {
      "needs_background": "light"
     },
     "output_type": "display_data"
    }
   ],
   "source": [
    "plt.imshow(np.concatenate(list(map(\n",
    "    lambda x: x.reshape(result_shape),\n",
    "    (\n",
    "        np.array(array.array(\n",
    "            'f', OpenEXR\\\n",
    "                    .InputFile(os.path.join(exr_images, os.listdir(exr_images)[0]))\\\n",
    "                    .channel(channel, Imath.PixelType(Imath.PixelType.UINT))\n",
    "        ).tolist()) for channel in 'RGB'\n",
    "    )\n",
    ")), axis=2))"
   ]
  },
  {
   "cell_type": "code",
   "execution_count": null,
   "metadata": {},
   "outputs": [],
   "source": []
  }
 ],
 "metadata": {
  "kernelspec": {
   "display_name": "Python 3",
   "language": "python",
   "name": "python3"
  },
  "language_info": {
   "codemirror_mode": {
    "name": "ipython",
    "version": 3
   },
   "file_extension": ".py",
   "mimetype": "text/x-python",
   "name": "python",
   "nbconvert_exporter": "python",
   "pygments_lexer": "ipython3",
   "version": "3.7.10"
  }
 },
 "nbformat": 4,
 "nbformat_minor": 4
}
